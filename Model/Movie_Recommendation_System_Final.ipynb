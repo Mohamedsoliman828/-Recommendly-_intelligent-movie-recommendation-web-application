{
 "cells": [
  {
   "cell_type": "markdown",
   "id": "aa136c33",
   "metadata": {
    "id": "aa136c33"
   },
   "source": [
    "![alt text](3.png \"Title\")\n",
    "**Recommender systems** are among the most popular applications of data science today. They are used to predict the \"rating\" or \"preference\" that a user would give to an item. Almost every major tech company has applied them in some form. Amazon uses it to suggest products to customers, YouTube uses it to decide which video to play next on autoplay, and Facebook uses it to recommend pages to like and people to follow."
   ]
  },
  {
   "cell_type": "markdown",
   "id": "4dd19ddf",
   "metadata": {
    "id": "4dd19ddf"
   },
   "source": [
    "Broadly, recommender systems can be classified into 3 types:\n",
    "\n",
    ">**Simple recommenders**:<br><br><br>\n",
    "offer generalized recommendations to every user, based on movie popularity and/or genre. The basic idea behind this system is that movies that are more popular and critically acclaimed will have a higher probability of being liked by the average audience. An example could be IMDB Top 250.<br><br><br>\n",
    "**Content-based recommenders**:<br><br><br>\n",
    "suggest similar items based on a particular item. This system uses item metadata, such as genre, director, description, actors, etc. for movies, to make these recommendations. The general idea behind these recommender systems is that if a person likes a particular item, he or she will also like an item that is similar to it. And to recommend that, it will make use of the user's past item metadata. A good example could be YouTube, where based on your history, it suggests you new videos that you could potentially watch.<br><br><br>\n",
    "**Collaborative filtering engines**:<br><br><br> these systems are widely used, and they try to predict the rating or preference that a user would give an item-based on past ratings and preferences of other users. Collaborative filters do not require item metadata like its content-based counterparts."
   ]
  },
  {
   "cell_type": "code",
   "execution_count": 1,
   "id": "6e9740d6",
   "metadata": {
    "id": "6e9740d6"
   },
   "outputs": [],
   "source": [
    "import pandas as pd \n",
    "from sklearn.metrics.pairwise import linear_kernel\n",
    "from sklearn.feature_extraction.text import TfidfVectorizer\n",
    "import numpy as np"
   ]
  },
  {
   "cell_type": "code",
   "execution_count": 2,
   "id": "6b5ab96f",
   "metadata": {
    "colab": {
     "base_uri": "https://localhost:8080/",
     "height": 396
    },
    "id": "6b5ab96f",
    "outputId": "1cde21fd-7bbf-435b-df47-f0ba2cece52e"
   },
   "outputs": [
    {
     "data": {
      "text/html": [
       "<div>\n",
       "<style scoped>\n",
       "    .dataframe tbody tr th:only-of-type {\n",
       "        vertical-align: middle;\n",
       "    }\n",
       "\n",
       "    .dataframe tbody tr th {\n",
       "        vertical-align: top;\n",
       "    }\n",
       "\n",
       "    .dataframe thead th {\n",
       "        text-align: right;\n",
       "    }\n",
       "</style>\n",
       "<table border=\"1\" class=\"dataframe\">\n",
       "  <thead>\n",
       "    <tr style=\"text-align: right;\">\n",
       "      <th></th>\n",
       "      <th>adult</th>\n",
       "      <th>belongs_to_collection</th>\n",
       "      <th>budget</th>\n",
       "      <th>genres</th>\n",
       "      <th>homepage</th>\n",
       "      <th>id</th>\n",
       "      <th>imdb_id</th>\n",
       "      <th>original_language</th>\n",
       "      <th>original_title</th>\n",
       "      <th>overview</th>\n",
       "      <th>...</th>\n",
       "      <th>release_date</th>\n",
       "      <th>revenue</th>\n",
       "      <th>runtime</th>\n",
       "      <th>spoken_languages</th>\n",
       "      <th>status</th>\n",
       "      <th>tagline</th>\n",
       "      <th>title</th>\n",
       "      <th>video</th>\n",
       "      <th>vote_average</th>\n",
       "      <th>vote_count</th>\n",
       "    </tr>\n",
       "  </thead>\n",
       "  <tbody>\n",
       "    <tr>\n",
       "      <th>0</th>\n",
       "      <td>False</td>\n",
       "      <td>{'id': 10194, 'name': 'Toy Story Collection', ...</td>\n",
       "      <td>30000000</td>\n",
       "      <td>[{'id': 16, 'name': 'Animation'}, {'id': 35, '...</td>\n",
       "      <td>http://toystory.disney.com/toy-story</td>\n",
       "      <td>862</td>\n",
       "      <td>tt0114709</td>\n",
       "      <td>en</td>\n",
       "      <td>Toy Story</td>\n",
       "      <td>Led by Woody, Andy's toys live happily in his ...</td>\n",
       "      <td>...</td>\n",
       "      <td>1995-10-30</td>\n",
       "      <td>373554033.0</td>\n",
       "      <td>81.0</td>\n",
       "      <td>[{'iso_639_1': 'en', 'name': 'English'}]</td>\n",
       "      <td>Released</td>\n",
       "      <td>NaN</td>\n",
       "      <td>Toy Story</td>\n",
       "      <td>False</td>\n",
       "      <td>7.7</td>\n",
       "      <td>5415.0</td>\n",
       "    </tr>\n",
       "    <tr>\n",
       "      <th>1</th>\n",
       "      <td>False</td>\n",
       "      <td>NaN</td>\n",
       "      <td>65000000</td>\n",
       "      <td>[{'id': 12, 'name': 'Adventure'}, {'id': 14, '...</td>\n",
       "      <td>NaN</td>\n",
       "      <td>8844</td>\n",
       "      <td>tt0113497</td>\n",
       "      <td>en</td>\n",
       "      <td>Jumanji</td>\n",
       "      <td>When siblings Judy and Peter discover an encha...</td>\n",
       "      <td>...</td>\n",
       "      <td>1995-12-15</td>\n",
       "      <td>262797249.0</td>\n",
       "      <td>104.0</td>\n",
       "      <td>[{'iso_639_1': 'en', 'name': 'English'}, {'iso...</td>\n",
       "      <td>Released</td>\n",
       "      <td>Roll the dice and unleash the excitement!</td>\n",
       "      <td>Jumanji</td>\n",
       "      <td>False</td>\n",
       "      <td>6.9</td>\n",
       "      <td>2413.0</td>\n",
       "    </tr>\n",
       "  </tbody>\n",
       "</table>\n",
       "<p>2 rows × 24 columns</p>\n",
       "</div>"
      ],
      "text/plain": [
       "   adult                              belongs_to_collection    budget  \\\n",
       "0  False  {'id': 10194, 'name': 'Toy Story Collection', ...  30000000   \n",
       "1  False                                                NaN  65000000   \n",
       "\n",
       "                                              genres  \\\n",
       "0  [{'id': 16, 'name': 'Animation'}, {'id': 35, '...   \n",
       "1  [{'id': 12, 'name': 'Adventure'}, {'id': 14, '...   \n",
       "\n",
       "                               homepage    id    imdb_id original_language  \\\n",
       "0  http://toystory.disney.com/toy-story   862  tt0114709                en   \n",
       "1                                   NaN  8844  tt0113497                en   \n",
       "\n",
       "  original_title                                           overview  ...  \\\n",
       "0      Toy Story  Led by Woody, Andy's toys live happily in his ...  ...   \n",
       "1        Jumanji  When siblings Judy and Peter discover an encha...  ...   \n",
       "\n",
       "  release_date      revenue runtime  \\\n",
       "0   1995-10-30  373554033.0    81.0   \n",
       "1   1995-12-15  262797249.0   104.0   \n",
       "\n",
       "                                    spoken_languages    status  \\\n",
       "0           [{'iso_639_1': 'en', 'name': 'English'}]  Released   \n",
       "1  [{'iso_639_1': 'en', 'name': 'English'}, {'iso...  Released   \n",
       "\n",
       "                                     tagline      title  video vote_average  \\\n",
       "0                                        NaN  Toy Story  False          7.7   \n",
       "1  Roll the dice and unleash the excitement!    Jumanji  False          6.9   \n",
       "\n",
       "  vote_count  \n",
       "0     5415.0  \n",
       "1     2413.0  \n",
       "\n",
       "[2 rows x 24 columns]"
      ]
     },
     "execution_count": 2,
     "metadata": {},
     "output_type": "execute_result"
    }
   ],
   "source": [
    "df = pd.read_csv(\"movies_metadata.csv\",low_memory=False)\n",
    "\n",
    "df.head(2)"
   ]
  },
  {
   "cell_type": "code",
   "execution_count": 3,
   "id": "b9cff1c0",
   "metadata": {
    "colab": {
     "base_uri": "https://localhost:8080/"
    },
    "id": "b9cff1c0",
    "outputId": "22464a4c-3a98-460b-bb07-eeba05140c0c"
   },
   "outputs": [
    {
     "data": {
      "text/plain": [
       "(45466, 24)"
      ]
     },
     "execution_count": 3,
     "metadata": {},
     "output_type": "execute_result"
    }
   ],
   "source": [
    "df.shape"
   ]
  },
  {
   "cell_type": "code",
   "execution_count": 4,
   "id": "85db2566",
   "metadata": {
    "colab": {
     "base_uri": "https://localhost:8080/"
    },
    "id": "85db2566",
    "outputId": "c3d35234-7ed6-412e-c5f9-84f0bf8c0448"
   },
   "outputs": [
    {
     "data": {
      "text/plain": [
       "Index(['adult', 'belongs_to_collection', 'budget', 'genres', 'homepage', 'id',\n",
       "       'imdb_id', 'original_language', 'original_title', 'overview',\n",
       "       'popularity', 'poster_path', 'production_companies',\n",
       "       'production_countries', 'release_date', 'revenue', 'runtime',\n",
       "       'spoken_languages', 'status', 'tagline', 'title', 'video',\n",
       "       'vote_average', 'vote_count'],\n",
       "      dtype='object')"
      ]
     },
     "execution_count": 4,
     "metadata": {},
     "output_type": "execute_result"
    }
   ],
   "source": [
    "df.columns"
   ]
  },
  {
   "cell_type": "code",
   "execution_count": 5,
   "id": "88f6b9cb",
   "metadata": {
    "colab": {
     "base_uri": "https://localhost:8080/"
    },
    "id": "88f6b9cb",
    "outputId": "28c64744-bf6e-4bbc-e59e-580dd320915f"
   },
   "outputs": [
    {
     "data": {
      "text/plain": [
       "adult                        0\n",
       "belongs_to_collection    40972\n",
       "budget                       0\n",
       "genres                       0\n",
       "homepage                 37684\n",
       "id                           0\n",
       "imdb_id                     17\n",
       "original_language           11\n",
       "original_title               0\n",
       "overview                   954\n",
       "popularity                   5\n",
       "poster_path                386\n",
       "production_companies         3\n",
       "production_countries         3\n",
       "release_date                87\n",
       "revenue                      6\n",
       "runtime                    263\n",
       "spoken_languages             6\n",
       "status                      87\n",
       "tagline                  25054\n",
       "title                        6\n",
       "video                        6\n",
       "vote_average                 6\n",
       "vote_count                   6\n",
       "dtype: int64"
      ]
     },
     "execution_count": 5,
     "metadata": {},
     "output_type": "execute_result"
    }
   ],
   "source": [
    "df.isnull().sum()"
   ]
  },
  {
   "cell_type": "code",
   "execution_count": 6,
   "id": "ec6f9f0f",
   "metadata": {
    "colab": {
     "base_uri": "https://localhost:8080/"
    },
    "id": "ec6f9f0f",
    "outputId": "d3d9171f-bea0-442f-cc12-7b90662a938d"
   },
   "outputs": [
    {
     "data": {
      "text/plain": [
       "adult                   0\n",
       "budget                  0\n",
       "genres                  0\n",
       "id                      0\n",
       "imdb_id                 0\n",
       "original_language       0\n",
       "original_title          0\n",
       "overview                0\n",
       "popularity              0\n",
       "poster_path             0\n",
       "production_companies    0\n",
       "production_countries    0\n",
       "release_date            0\n",
       "revenue                 0\n",
       "runtime                 0\n",
       "spoken_languages        0\n",
       "status                  0\n",
       "title                   0\n",
       "video                   0\n",
       "vote_average            0\n",
       "vote_count              0\n",
       "dtype: int64"
      ]
     },
     "execution_count": 6,
     "metadata": {},
     "output_type": "execute_result"
    }
   ],
   "source": [
    "df.drop(columns=['homepage','belongs_to_collection','tagline'],inplace=True,axis=1)\n",
    "df.dropna(inplace=True)\n",
    "df.isnull().sum()"
   ]
  },
  {
   "cell_type": "code",
   "execution_count": 7,
   "id": "5971c8b8",
   "metadata": {
    "colab": {
     "base_uri": "https://localhost:8080/"
    },
    "id": "5971c8b8",
    "outputId": "321e31f0-cd75-46cc-a490-cf268ee1bf49"
   },
   "outputs": [
    {
     "data": {
      "text/plain": [
       "(44048, 21)"
      ]
     },
     "execution_count": 7,
     "metadata": {},
     "output_type": "execute_result"
    }
   ],
   "source": [
    "df.shape"
   ]
  },
  {
   "cell_type": "code",
   "execution_count": 8,
   "id": "532fba9a",
   "metadata": {
    "colab": {
     "base_uri": "https://localhost:8080/"
    },
    "id": "532fba9a",
    "outputId": "f723f537-e993-41d8-f75c-bbc6bf6ec145"
   },
   "outputs": [
    {
     "data": {
      "text/plain": [
       "17"
      ]
     },
     "execution_count": 8,
     "metadata": {},
     "output_type": "execute_result"
    }
   ],
   "source": [
    "df.duplicated().sum()"
   ]
  },
  {
   "cell_type": "code",
   "execution_count": 9,
   "id": "625123e8",
   "metadata": {
    "id": "625123e8"
   },
   "outputs": [],
   "source": [
    "df.drop_duplicates(inplace=True)"
   ]
  },
  {
   "cell_type": "code",
   "execution_count": 10,
   "id": "02648b40",
   "metadata": {
    "colab": {
     "base_uri": "https://localhost:8080/"
    },
    "id": "02648b40",
    "outputId": "432aa071-e4ec-421a-bc43-04a736aac8ca"
   },
   "outputs": [
    {
     "data": {
      "text/plain": [
       "0"
      ]
     },
     "execution_count": 10,
     "metadata": {},
     "output_type": "execute_result"
    }
   ],
   "source": [
    "df.duplicated().sum()"
   ]
  },
  {
   "cell_type": "code",
   "execution_count": 11,
   "id": "5ce05ef8",
   "metadata": {
    "colab": {
     "base_uri": "https://localhost:8080/"
    },
    "id": "5ce05ef8",
    "outputId": "1dc6beec-612e-4aca-ac6b-ec0794d65148"
   },
   "outputs": [
    {
     "data": {
      "text/plain": [
       "Index(['adult', 'budget', 'genres', 'id', 'imdb_id', 'original_language',\n",
       "       'original_title', 'overview', 'popularity', 'poster_path',\n",
       "       'production_companies', 'production_countries', 'release_date',\n",
       "       'revenue', 'runtime', 'spoken_languages', 'status', 'title', 'video',\n",
       "       'vote_average', 'vote_count'],\n",
       "      dtype='object')"
      ]
     },
     "execution_count": 11,
     "metadata": {},
     "output_type": "execute_result"
    }
   ],
   "source": [
    "df.columns"
   ]
  },
  {
   "cell_type": "markdown",
   "id": "6044168c",
   "metadata": {
    "id": "6044168c"
   },
   "source": [
    "**Simple recommenders**: <br><br><br>\n",
    ">As described in the previous section, simple recommenders are basic systems that recommend the top items based on a certain metric or score. In this section, you will build a simplified clone of IMDB Top 250 Movies using metadata collected from IMDB."
   ]
  },
  {
   "cell_type": "markdown",
   "id": "e673cc92",
   "metadata": {
    "id": "e673cc92"
   },
   "source": [
    "We Will be using **weighted rating** so that the movie popularity * number of votes * takes into account the average rating and the number of votes it has accumulated. Such a system will make sure that a movie with a 9 rating from 100,000 voters gets a (far) higher score than a movie with the same rating but a mere few hundred voters."
   ]
  },
  {
   "cell_type": "markdown",
   "id": "27dd0f02",
   "metadata": {
    "id": "27dd0f02"
   },
   "source": [
    "WeightedRating(WR)=((v/v+m⋅)*R)+((m/v+m)*C)\n",
    " \n",
    "In the above equation,\n",
    "\n",
    "v is the number of votes for the movie;\n",
    "\n",
    "m is the minimum votes required to be listed in the chart;\n",
    "\n",
    "R is the average rating of the movie;\n",
    "\n",
    "C is the mean vote across the whole report."
   ]
  },
  {
   "cell_type": "code",
   "execution_count": 12,
   "id": "777d1de2",
   "metadata": {
    "colab": {
     "base_uri": "https://localhost:8080/"
    },
    "id": "777d1de2",
    "outputId": "c5b76c66-9d7c-47d2-a939-b6d7c842549e"
   },
   "outputs": [
    {
     "data": {
      "text/plain": [
       "5.673836615111793"
      ]
     },
     "execution_count": 12,
     "metadata": {},
     "output_type": "execute_result"
    }
   ],
   "source": [
    "c= df['vote_average'].mean()\n",
    "c"
   ]
  },
  {
   "cell_type": "code",
   "execution_count": 13,
   "id": "e08b8575",
   "metadata": {
    "colab": {
     "base_uri": "https://localhost:8080/"
    },
    "id": "e08b8575",
    "outputId": "b56a6dc9-5b75-40e9-b7c3-9f471588e0a6"
   },
   "outputs": [
    {
     "data": {
      "text/plain": [
       "168.0"
      ]
     },
     "execution_count": 13,
     "metadata": {},
     "output_type": "execute_result"
    }
   ],
   "source": [
    "#calculate the number of votes, m, received by a movie in the 90th percentile\n",
    "m = df['vote_count'].quantile(0.9)\n",
    "m"
   ]
  },
  {
   "cell_type": "markdown",
   "id": "020c1102",
   "metadata": {
    "id": "020c1102"
   },
   "source": [
    "Filter Movies based on the vote_count"
   ]
  },
  {
   "cell_type": "code",
   "execution_count": 14,
   "id": "c3aa30ee",
   "metadata": {
    "colab": {
     "base_uri": "https://localhost:8080/"
    },
    "id": "c3aa30ee",
    "outputId": "7080e8a4-f204-49d6-e585-0ef7a25a2100"
   },
   "outputs": [
    {
     "data": {
      "text/plain": [
       "(4406, 21)"
      ]
     },
     "execution_count": 14,
     "metadata": {},
     "output_type": "execute_result"
    }
   ],
   "source": [
    "q_movies = df.copy().loc[df['vote_count']>=m]\n",
    "q_movies.shape"
   ]
  },
  {
   "cell_type": "code",
   "execution_count": 15,
   "id": "tmO2JQVKtlMV",
   "metadata": {
    "colab": {
     "base_uri": "https://localhost:8080/"
    },
    "id": "tmO2JQVKtlMV",
    "outputId": "2c0461f0-b503-482e-c21e-8de8d6640ac9"
   },
   "outputs": [
    {
     "data": {
      "text/plain": [
       "count    44031.000000\n",
       "mean       113.240285\n",
       "std        498.848134\n",
       "min          0.000000\n",
       "25%          3.000000\n",
       "50%         10.000000\n",
       "75%         36.000000\n",
       "max      14075.000000\n",
       "Name: vote_count, dtype: float64"
      ]
     },
     "execution_count": 15,
     "metadata": {},
     "output_type": "execute_result"
    }
   ],
   "source": [
    "df['vote_count'].describe()"
   ]
  },
  {
   "cell_type": "code",
   "execution_count": 16,
   "id": "15488ca9",
   "metadata": {
    "id": "15488ca9"
   },
   "outputs": [],
   "source": [
    "# Function that computes the weighted rating of each movie\n",
    "def weighted_rating(x,m=m,c=c):\n",
    "    v=x['vote_count']\n",
    "    r=x['vote_average']\n",
    "    rate = (v/(v+m)*r)+(m/(v+m)*c)\n",
    "    return rate"
   ]
  },
  {
   "cell_type": "code",
   "execution_count": 17,
   "id": "65b6a867",
   "metadata": {
    "id": "65b6a867"
   },
   "outputs": [],
   "source": [
    "#Apply Our Function to create new weighted rate column\n",
    "q_movies['weighted_rate']=q_movies.apply(weighted_rating,axis=1)"
   ]
  },
  {
   "cell_type": "code",
   "execution_count": 18,
   "id": "75342781",
   "metadata": {
    "colab": {
     "base_uri": "https://localhost:8080/"
    },
    "id": "75342781",
    "outputId": "8b27980e-0bbf-4313-8ec7-8241b23cdee6"
   },
   "outputs": [
    {
     "data": {
      "text/plain": [
       "314         The Shawshank Redemption\n",
       "834                    The Godfather\n",
       "10309    Dilwale Dulhania Le Jayenge\n",
       "12481                The Dark Knight\n",
       "2843                      Fight Club\n",
       "Name: title, dtype: object"
      ]
     },
     "execution_count": 18,
     "metadata": {},
     "output_type": "execute_result"
    }
   ],
   "source": [
    "#Sort The Movies based on the weighted rate\n",
    "q_movies = q_movies.sort_values('weighted_rate',ascending=False)\n",
    "# Print the top 5 rated movies of all time\n",
    "q_movies.iloc[:5,-5]"
   ]
  },
  {
   "cell_type": "code",
   "execution_count": 19,
   "id": "70Gy8zjsRaR_",
   "metadata": {
    "colab": {
     "base_uri": "https://localhost:8080/"
    },
    "id": "70Gy8zjsRaR_",
    "outputId": "7c0e22ab-23b0-4ce3-91f6-5f870638ed32"
   },
   "outputs": [
    {
     "data": {
      "text/plain": [
       "(4406, 22)"
      ]
     },
     "execution_count": 19,
     "metadata": {},
     "output_type": "execute_result"
    }
   ],
   "source": [
    "q_movies.shape"
   ]
  },
  {
   "cell_type": "markdown",
   "id": "dbdf9cd2",
   "metadata": {
    "id": "dbdf9cd2"
   },
   "source": [
    "**Content-Based Recommender**\n",
    "<br><br>\n",
    ">Plot Description Based Recommender\n",
    "We will build a system that recommends movies that are similar to a particular movie. To achieve this, we will compute pairwise cosine similarity scores for all movies based on their plot descriptions and recommend movies based on that similarity score threshold."
   ]
  },
  {
   "cell_type": "code",
   "execution_count": 20,
   "id": "606033bc",
   "metadata": {
    "colab": {
     "base_uri": "https://localhost:8080/"
    },
    "id": "606033bc",
    "outputId": "d88e658e-025a-48e2-9223-1c686d6aefb4",
    "scrolled": false
   },
   "outputs": [
    {
     "data": {
      "text/plain": [
       "0    Led by Woody, Andy's toys live happily in his ...\n",
       "1    When siblings Judy and Peter discover an encha...\n",
       "2    A family wedding reignites the ancient feud be...\n",
       "3    Cheated on, mistreated and stepped on, the wom...\n",
       "4    Just when George Banks has recovered from his ...\n",
       "Name: overview, dtype: object"
      ]
     },
     "execution_count": 20,
     "metadata": {},
     "output_type": "execute_result"
    }
   ],
   "source": [
    "df.overview.head()"
   ]
  },
  {
   "cell_type": "code",
   "execution_count": 21,
   "id": "cf3611d4",
   "metadata": {
    "colab": {
     "base_uri": "https://localhost:8080/"
    },
    "id": "cf3611d4",
    "outputId": "bbf0abaf-109f-41bb-decf-5a2624bd90d0"
   },
   "outputs": [
    {
     "name": "stdout",
     "output_type": "stream",
     "text": [
      "we will only recommend movies with vote count greater than or equal 52\n"
     ]
    }
   ],
   "source": [
    "thresh = df['vote_count'].quantile(0.8)\n",
    "print(\"we will only recommend movies with vote count greater than or equal \"+str(int(thresh)))"
   ]
  },
  {
   "cell_type": "code",
   "execution_count": 22,
   "id": "w6P5JWJ9yH1o",
   "metadata": {
    "colab": {
     "base_uri": "https://localhost:8080/"
    },
    "id": "w6P5JWJ9yH1o",
    "outputId": "af4d31d2-67e1-4353-cee2-8db68839bacd"
   },
   "outputs": [
    {
     "data": {
      "text/plain": [
       "(8890, 21)"
      ]
     },
     "execution_count": 22,
     "metadata": {},
     "output_type": "execute_result"
    }
   ],
   "source": [
    "filtered_df = df.copy().loc[df['vote_count']>=thresh]\n",
    "filtered_df.shape"
   ]
  },
  {
   "cell_type": "markdown",
   "id": "015efd27",
   "metadata": {
    "id": "015efd27"
   },
   "source": [
    "we will compute Term Frequency-Inverse Document Frequency (TF-IDF) vectors for each movie. This will give a matrix where each column represents a word in the overview vocabulary (all the words that appear in at least one document), and each column represents a movie, as before.\n",
    "\n",
    "In its essence, the TF-IDF score is the frequency of a word occurring in a document, down-weighted by the number of documents in which it occurs. This is done to reduce the importance of words that frequently occur in plot overviews and, therefore, their significance in computing the final similarity score."
   ]
  },
  {
   "cell_type": "code",
   "execution_count": 23,
   "id": "a59f537f",
   "metadata": {
    "colab": {
     "base_uri": "https://localhost:8080/"
    },
    "id": "a59f537f",
    "outputId": "0ee080b2-7cf4-4730-903f-3c919a563d21"
   },
   "outputs": [
    {
     "data": {
      "text/plain": [
       "(8890, 28642)"
      ]
     },
     "execution_count": 23,
     "metadata": {},
     "output_type": "execute_result"
    }
   ],
   "source": [
    "\n",
    "#create an instance of the vectorizer\n",
    "tfidf = TfidfVectorizer(stop_words='english')\n",
    "filtered_df['overview'] = filtered_df['overview'].fillna('')\n",
    "#fit and transform the vectorizer on the dataframe 'overview' columns\n",
    "fit_matrix= tfidf.fit_transform(filtered_df['overview'])\n",
    "#view shape\n",
    "fit_matrix.shape"
   ]
  },
  {
   "cell_type": "code",
   "execution_count": 24,
   "id": "f282096d",
   "metadata": {
    "colab": {
     "base_uri": "https://localhost:8080/"
    },
    "id": "f282096d",
    "outputId": "16cc38b0-2e02-4169-e054-8eb0d7b5ff04"
   },
   "outputs": [
    {
     "data": {
      "text/plain": [
       "['alchemist',\n",
       " 'alchemy',\n",
       " 'alcohol',\n",
       " 'alcoholic',\n",
       " 'alcoholism',\n",
       " 'alcott',\n",
       " 'alcs',\n",
       " 'ald',\n",
       " 'aldea',\n",
       " 'alderman']"
      ]
     },
     "execution_count": 24,
     "metadata": {},
     "output_type": "execute_result"
    }
   ],
   "source": [
    "tfidf.get_feature_names()[1000:1010]"
   ]
  },
  {
   "cell_type": "markdown",
   "id": "e8d8af27",
   "metadata": {
    "id": "e8d8af27"
   },
   "source": [
    "From the above output, you observe that 75375 different vocabularies or words in the dataset that has 45,000 movies."
   ]
  },
  {
   "cell_type": "markdown",
   "id": "c54e2e7c",
   "metadata": {
    "id": "c54e2e7c"
   },
   "source": [
    "we will be using the cosine similarity to calculate a numeric quantity that denotes the similarity between two movies. we choose the cosine similarity score since it is independent of magnitude and is relatively easy and fast to calculate "
   ]
  },
  {
   "cell_type": "markdown",
   "id": "dd18fe6c",
   "metadata": {
    "id": "dd18fe6c"
   },
   "source": [
    " we will use sklearn's linear_kernel() instead of cosine_similarities() since it is faster."
   ]
  },
  {
   "cell_type": "code",
   "execution_count": 25,
   "id": "a3ea40ff",
   "metadata": {
    "colab": {
     "base_uri": "https://localhost:8080/"
    },
    "id": "a3ea40ff",
    "outputId": "edc8611e-f124-4c4b-985d-8f6253a675b3"
   },
   "outputs": [
    {
     "data": {
      "text/plain": [
       "(8890, 8890)"
      ]
     },
     "execution_count": 25,
     "metadata": {},
     "output_type": "execute_result"
    }
   ],
   "source": [
    "cosine_sim = linear_kernel(fit_matrix,fit_matrix)\n",
    "cosine_sim.shape"
   ]
  },
  {
   "cell_type": "code",
   "execution_count": 26,
   "id": "-4zvd5q2lvm1",
   "metadata": {
    "id": "-4zvd5q2lvm1"
   },
   "outputs": [],
   "source": [
    "filtered_df['title']= filtered_df['title'].str.lower()"
   ]
  },
  {
   "cell_type": "code",
   "execution_count": 27,
   "id": "AQBu1An3UVu6",
   "metadata": {
    "id": "AQBu1An3UVu6"
   },
   "outputs": [],
   "source": [
    "filtered_df =filtered_df.reset_index()"
   ]
  },
  {
   "cell_type": "markdown",
   "id": "05dddc9d",
   "metadata": {
    "id": "05dddc9d"
   },
   "source": [
    "reverse mapping of movie titles and DataFrame indices."
   ]
  },
  {
   "cell_type": "code",
   "execution_count": 30,
   "id": "86127af4",
   "metadata": {
    "id": "86127af4"
   },
   "outputs": [],
   "source": [
    "get_ind = pd.Series(filtered_df.index,index=filtered_df['title'])"
   ]
  },
  {
   "cell_type": "code",
   "execution_count": 31,
   "id": "565aa007",
   "metadata": {
    "colab": {
     "base_uri": "https://localhost:8080/"
    },
    "id": "565aa007",
    "outputId": "8fd2ec41-5c36-41c4-f255-32da064a0862"
   },
   "outputs": [
    {
     "data": {
      "text/plain": [
       "title\n",
       "toy story                      0\n",
       "jumanji                        1\n",
       "grumpier old men               2\n",
       "father of the bride part ii    3\n",
       "heat                           4\n",
       "dtype: int64"
      ]
     },
     "execution_count": 31,
     "metadata": {},
     "output_type": "execute_result"
    }
   ],
   "source": [
    "get_ind[:5]"
   ]
  },
  {
   "cell_type": "code",
   "execution_count": 32,
   "id": "3c90466a",
   "metadata": {},
   "outputs": [],
   "source": [
    "final = filtered_df['title']"
   ]
  },
  {
   "cell_type": "markdown",
   "id": "2a9ce173",
   "metadata": {
    "id": "2a9ce173"
   },
   "source": [
    "here we will implement a function to get the top 10 recommendation for a given movie name"
   ]
  },
  {
   "cell_type": "code",
   "execution_count": 34,
   "id": "ddf94b7f",
   "metadata": {},
   "outputs": [],
   "source": [
    "def get_recommendations(title,final,cosine_sim):\n",
    "    #conver title to lower\n",
    "    title=title.lower()\n",
    "    # Get the index of the movie that matches the title\n",
    "    try:\n",
    "\n",
    "      ind = get_ind[title]\n",
    "    \n",
    "      # Get the pairwsie similarity scores of all movies with that movie\n",
    "      sim_scores = list(enumerate(cosine_sim[ind]))\n",
    "    \n",
    "      # Sort the movies based on the similarity scores\n",
    "      sim_scores = sorted(sim_scores, key=lambda x: x[1], reverse=True)\n",
    "    \n",
    "      # Get the scores of the 10 most similar movies * neglecting first because it reflects the same movie\n",
    "      sim_scores = sim_scores[1:11]\n",
    "      \n",
    "      # Get the movie indices\n",
    "      movie_indices = [i[0] for i in sim_scores]\n",
    "      \n",
    "      # Return the top 10 most similar movies\n",
    "      #return saved_df['title'].iloc[movie_indices]\n",
    "      return final.iloc[movie_indices]\n",
    "    except :\n",
    "      print(\"Did not find movie in our database\")\n",
    "      "
   ]
  },
  {
   "cell_type": "code",
   "execution_count": 41,
   "id": "cZ5bUX9AVoKp",
   "metadata": {
    "colab": {
     "base_uri": "https://localhost:8080/"
    },
    "id": "cZ5bUX9AVoKp",
    "outputId": "a5f0f9e9-dc67-472b-f451-fa5f59b12fc0"
   },
   "outputs": [
    {
     "name": "stdout",
     "output_type": "stream",
     "text": [
      "0.45815194652946556\n"
     ]
    }
   ],
   "source": [
    "def view_sim_score(mov1,mov2,cosine_sim=cosine_sim):\n",
    "  mov1 = mov1.lower()\n",
    "  mov2 = mov2.lower()\n",
    "  ind = get_ind[mov1]\n",
    "  ind2 = get_ind[mov2]\n",
    "  coss = cosine_sim[ind]\n",
    "  return coss[ind2]\n",
    "print(view_sim_score('Toy Story','Toy Story 2'))\n"
   ]
  },
  {
   "cell_type": "code",
   "execution_count": 46,
   "id": "8f3b3292",
   "metadata": {},
   "outputs": [
    {
     "name": "stdout",
     "output_type": "stream",
     "text": [
      "Saved\n"
     ]
    }
   ],
   "source": [
    "def save_artifacts(cosine_sim,final):\n",
    "    arr = np.array(cosine_sim)\n",
    "    np.save('cosine_sim',arr)\n",
    "    final.to_csv('final.csv',index=False)\n",
    "    return \"Saved\"\n",
    "print(save_artifacts(cosine_sim,final))\n",
    "    "
   ]
  },
  {
   "cell_type": "code",
   "execution_count": 47,
   "id": "75dc4f1d",
   "metadata": {},
   "outputs": [],
   "source": [
    "ret , db = load_artifacts()"
   ]
  },
  {
   "cell_type": "code",
   "execution_count": 48,
   "id": "3d6a630a",
   "metadata": {},
   "outputs": [],
   "source": [
    "def load_artifacts():\n",
    "    ret = np.load('cosine_sim.npy')\n",
    "    db = pd.read_csv('final.csv')\n",
    "    return ret,db\n",
    "#def recommend(load_artifacts()):"
   ]
  },
  {
   "cell_type": "code",
   "execution_count": 50,
   "id": "cd5150fe",
   "metadata": {},
   "outputs": [
    {
     "data": {
      "text/plain": [
       "7382                  the anomaly\n",
       "7213    dead snow 2: red vs. dead\n",
       "6282                      bad ass\n",
       "2635                 terror train\n",
       "7217               last passenger\n",
       "8083                         howl\n",
       "3559                silver streak\n",
       "1266                      airport\n",
       "5157                   jab we met\n",
       "5854                         hugo\n",
       "Name: title, dtype: object"
      ]
     },
     "execution_count": 50,
     "metadata": {},
     "output_type": "execute_result"
    }
   ],
   "source": [
    "get_recommendations(\"source code\",final,ret)"
   ]
  }
 ],
 "metadata": {
  "colab": {
   "collapsed_sections": [],
   "name": "Movie Recommendation System_Final.ipynb",
   "provenance": []
  },
  "kernelspec": {
   "display_name": "Python 3",
   "language": "python",
   "name": "python3"
  },
  "language_info": {
   "codemirror_mode": {
    "name": "ipython",
    "version": 3
   },
   "file_extension": ".py",
   "mimetype": "text/x-python",
   "name": "python",
   "nbconvert_exporter": "python",
   "pygments_lexer": "ipython3",
   "version": "3.8.8"
  }
 },
 "nbformat": 4,
 "nbformat_minor": 5
}
